{
 "cells": [
  {
   "cell_type": "code",
   "execution_count": 5,
   "id": "cb1c2800-cff8-4f25-8268-28db0d887c27",
   "metadata": {},
   "outputs": [
    {
     "name": "stdout",
     "output_type": "stream",
     "text": [
      "Requirement already satisfied: pyspark==3.5.1 in c:\\users\\dr.sahib\\anaconda3\\envs\\spark\\lib\\site-packages (3.5.1)\n",
      "Requirement already satisfied: py4j==0.10.9.7 in c:\\users\\dr.sahib\\anaconda3\\envs\\spark\\lib\\site-packages (from pyspark==3.5.1) (0.10.9.7)\n",
      "Requirement already satisfied: findspark==2.0.1 in c:\\users\\dr.sahib\\anaconda3\\envs\\spark\\lib\\site-packages (2.0.1)\n",
      "Requirement already satisfied: pandas==2.2.2 in c:\\users\\dr.sahib\\anaconda3\\envs\\spark\\lib\\site-packages (2.2.2)\n",
      "Requirement already satisfied: numpy>=1.22.4 in c:\\users\\dr.sahib\\anaconda3\\envs\\spark\\lib\\site-packages (from pandas==2.2.2) (2.0.2)\n",
      "Requirement already satisfied: python-dateutil>=2.8.2 in c:\\users\\dr.sahib\\anaconda3\\envs\\spark\\lib\\site-packages (from pandas==2.2.2) (2.9.0.post0)\n",
      "Requirement already satisfied: pytz>=2020.1 in c:\\users\\dr.sahib\\anaconda3\\envs\\spark\\lib\\site-packages (from pandas==2.2.2) (2025.1)\n",
      "Requirement already satisfied: tzdata>=2022.7 in c:\\users\\dr.sahib\\anaconda3\\envs\\spark\\lib\\site-packages (from pandas==2.2.2) (2025.1)\n",
      "Requirement already satisfied: six>=1.5 in c:\\users\\dr.sahib\\anaconda3\\envs\\spark\\lib\\site-packages (from python-dateutil>=2.8.2->pandas==2.2.2) (1.17.0)\n"
     ]
    }
   ],
   "source": [
    "import os\n",
    "\n",
    "os.environ[\"PYSPARK_HADOOP_VERSION\"] = \"3\"\n",
    "\n",
    "!pip install pyspark==3.5.1\n",
    "!pip install findspark==2.0.1\n",
    "!pip install pandas==2.2.2\n"
   ]
  },
  {
   "cell_type": "code",
   "execution_count": 7,
   "id": "9e789695-8d72-4b5e-bc98-a0c13afbfe1c",
   "metadata": {},
   "outputs": [
    {
     "name": "stdout",
     "output_type": "stream",
     "text": [
      "C:\\Program Files\\Java\\jdk-17\n",
      "C:\\Users\\Dr.Sahib\\anaconda3\\envs\\spark;C:\\Users\\Dr.Sahib\\anaconda3\\envs\\spark\\Library\\mingw-w64\\bin;C:\\Users\\Dr.Sahib\\anaconda3\\envs\\spark\\Library\\usr\\bin;C:\\Users\\Dr.Sahib\\anaconda3\\envs\\spark\\Library\\bin;C:\\Users\\Dr.Sahib\\anaconda3\\envs\\spark\\Scripts;C:\\Users\\Dr.Sahib\\anaconda3\\envs\\spark\\bin;C:\\Users\\Dr.Sahib\\anaconda3\\condabin;C:\\Program Files\\Common Files\\Oracle\\Java\\javapath;C:\\WINDOWS\\system32;C:\\WINDOWS;C:\\WINDOWS\\System32\\Wbem;C:\\WINDOWS\\System32\\WindowsPowerShell\\v1.0;C:\\WINDOWS\\System32\\OpenSSH;C:\\Users\\Dr.Sahib\\anaconda3;C:\\Users\\Dr.Sahib\\anaconda3\\Scripts;C:\\Users\\Dr.Sahib\\anaconda3\\Condabin;C:\\Program Files\\Docker\\Docker\\resources\\bin;C:\\kafka\\bin\\windows;c:\\hadoop\\bin;C:\\Program Files\\Git\\cmd;C:\\Program Files\\Java\\jdk-17\\bin;C:\\Program Files\\Python313;C:\\Program Files\\Python313\\Scripts;C:\\Program Files\\Python313\\Scripts;C:\\Program Files\\Python313;C:\\Users\\Dr.Sahib\\AppData\\Local\\Programs\\Python\\Launcher;C:\\Program Files\\MySQL\\MySQL Shell 8.0\\bin;C:\\Users\\Dr.Sahib\\AppData\\Local\\Microsoft\\WindowsApps;C:\\Users\\Dr.Sahib\\AppData\\Local\\Programs\\Microsoft VS Code\\bin;C:\\Program Files\\JetBrains\\IntelliJ IDEA Community Edition 2024.2.1\\bin;.;C:\\Users\\Dr.Sahib\\AppData\\Local\\GitHubDesktop\\bin;.\n"
     ]
    }
   ],
   "source": [
    "#Set the following environment variables\n",
    "# PYSPARK_PYTHON=\"python\"\n",
    "\n",
    "#JAVA_HOME to Java 17\n",
    "#Add JAVA_HOME to PATH\n",
    "\n",
    "#For Windows only\n",
    "#  1. Copy the hadoop folder under \"exercise-files\" to c:\\hadoop\n",
    "#  2. Add an environment variable HADOOP_HOME=c:\\hadoop\n",
    "#  3. Add c:\\hadoop\\bin to PATH\n",
    "#  4. Close the notebook and the command prompt. Reopen command prompt, restart notebook.\n",
    "\n",
    "#Create dummy_hdfs folder\n",
    "os.makedirs(\"dummy_hdfs\",exist_ok=True)\n",
    "\n",
    "#Check if JAVA_HOME is set to Java 1.17\n",
    "print(os.environ[\"JAVA_HOME\"])\n",
    "\n",
    "#Check if HADOOP_HOME is set, needed for windows only\n",
    "#print(os.environ[\"HADOOP_HOME\"])\n",
    "\n",
    "#Check if JAVA_HOME & HADOOP_HOME (windows only) are in the PATH\n",
    "print(os.environ[\"PATH\"])"
   ]
  },
  {
   "cell_type": "code",
   "execution_count": null,
   "id": "cab9d4c6-16a6-4e1d-9b76-bc930706b2a4",
   "metadata": {},
   "outputs": [],
   "source": []
  }
 ],
 "metadata": {
  "kernelspec": {
   "display_name": "Python 3 (ipykernel)",
   "language": "python",
   "name": "python3"
  },
  "language_info": {
   "codemirror_mode": {
    "name": "ipython",
    "version": 3
   },
   "file_extension": ".py",
   "mimetype": "text/x-python",
   "name": "python",
   "nbconvert_exporter": "python",
   "pygments_lexer": "ipython3",
   "version": "3.9.20"
  }
 },
 "nbformat": 4,
 "nbformat_minor": 5
}
